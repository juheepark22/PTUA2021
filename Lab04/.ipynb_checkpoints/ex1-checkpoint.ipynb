{
 "cells": [
  {
   "cell_type": "code",
   "execution_count": 1,
   "metadata": {},
   "outputs": [],
   "source": [
    "# Open gal file "
   ]
  },
  {
   "cell_type": "code",
   "execution_count": 2,
   "metadata": {},
   "outputs": [
    {
     "name": "stdout",
     "output_type": "stream",
     "text": [
      "[['0', '49', 'mystery', 'mystery'], ['1', '2'], ['2', '3'], ['2', '3'], ['4', '3', '1'], ['3', '4'], ['5', '4', '2', '1'], ['4', '4'], ['8', '3', '5', '2'], ['5', '7'], ['15', '11', '8', '9', '6', '3', '4'], ['6', '2'], ['9', '5'], ['7', '3'], ['14', '13', '8'], ['8', '5'], ['12', '11', '5', '4', '7'], ['9', '6'], ['26', '22', '15', '10', '6', '5'], ['10', '3'], ['20', '17', '9'], ['11', '4'], ['16', '12', '5', '8'], ['12', '5'], ['16', '14', '13', '11', '8'], ['13', '3'], ['14', '12', '7'], ['14', '6'], ['19', '12', '13', '16', '18', '7'], ['15', '4'], ['25', '16', '5', '9'], ['16', '7'], ['25', '24', '18', '15', '11', '12', '14'], ['17', '3'], ['23', '20', '10'], ['18', '4'], ['24', '19', '16', '14'], ['19', '3'], ['18', '24', '14'], ['20', '9'], ['35', '33', '27', '22', '23', '32', '40', '17', '10'], ['21', '4'], ['34', '24', '30', '9'], ['22', '5'], ['28', '27', '26', '20', '9'], ['23', '3'], ['32', '17', '20'], ['24', '6'], ['30', '25', '16', '18', '21', '19'], ['25', '5'], ['29', '15', '26', '16', '24'], ['26', '4'], ['28', '22', '9', '25'], ['27', '4'], ['33', '28', '20', '22'], ['28', '7'], ['38', '29', '27', '33', '35', '22', '26'], ['29', '4'], ['37', '30', '28', '25'], ['30', '4'], ['37', '29', '24', '21'], ['31', '2'], ['36', '34'], ['32', '4'], ['41', '40', '23', '20'], ['33', '4'], ['35', '20', '27', '28'], ['34', '4'], ['42', '36', '21', '31'], ['35', '5'], ['44', '38', '20', '33', '28'], ['36', '5'], ['46', '39', '34', '42', '31'], ['37', '5'], ['45', '38', '43', '29', '30'], ['38', '4'], ['43', '35', '28', '37'], ['39', '2'], ['46', '36'], ['40', '4'], ['47', '41', '32', '20'], ['41', '3'], ['47', '32', '40'], ['42', '2'], ['34', '36'], ['43', '5'], ['48', '45', '44', '38', '37'], ['44', '4'], ['49', '48', '35', '43'], ['45', '4'], ['48', '49', '37', '43'], ['46', '2'], ['36', '39'], ['47', '2'], ['40', '41'], ['48', '4'], ['49', '44', '43', '45'], ['49', '3'], ['44', '48', '45']]\n"
     ]
    }
   ],
   "source": [
    "gallist =[]\n",
    "with open ('Lab04-1.gal', 'r') as f:\n",
    "    for line in f:\n",
    "        gallist.append(list(line.split()))\n",
    "print (gallist)"
   ]
  },
  {
   "cell_type": "code",
   "execution_count": null,
   "metadata": {},
   "outputs": [],
   "source": [
    "# Define a gal dictionary\n",
    "# the key = the id of a spatial unit\n",
    "# the value = a list of ids of its neighbors"
   ]
  },
  {
   "cell_type": "code",
   "execution_count": 4,
   "metadata": {},
   "outputs": [
    {
     "name": "stdout",
     "output_type": "stream",
     "text": [
      "{0: [1, 2], 1: [2, 3], 2: [4, 3, 1], 4: [8, 3, 5, 2], 3: [5, 4, 2, 1], 5: [15, 11, 8, 9, 6, 3, 4], 8: [12, 11, 5, 4, 7], 15: [25, 16, 5, 9], 6: [9, 5], 9: [26, 22, 15, 10, 6, 5], 7: [14, 13, 8], 14: [19, 12, 13, 16, 18, 7], 12: [16, 14, 13, 11, 8], 26: [28, 22, 9, 25], 10: [20, 17, 9], 20: [35, 33, 27, 22, 23, 32, 40, 17, 10], 11: [16, 12, 5, 8], 16: [25, 24, 18, 15, 11, 12, 14], 13: [14, 12, 7], 19: [18, 24, 14], 25: [29, 15, 26, 16, 24], 17: [23, 20, 10], 23: [32, 17, 20], 18: [20, 9], 24: [30, 25, 16, 18, 21, 19], 35: [44, 38, 20, 33, 28], 21: [34, 24, 30, 9], 34: [43, 5], 22: [28, 27, 26, 20, 9], 28: [38, 29, 27, 33, 35, 22, 26], 32: [41, 40, 23, 20], 30: [37, 29, 24, 21], 29: [37, 30, 28, 25], 27: [33, 28, 20, 22], 33: [35, 20, 27, 28], 38: [43, 35, 28, 37], 37: [45, 38, 43, 29, 30], 31: [36, 34], 36: [47, 2], 41: [47, 32, 40], 42: [34, 36], 44: [49, 48, 35, 43], 46: [36, 39], 45: [48, 49, 37, 43], 43: [48, 45, 44, 38, 37], 39: [46, 36], 40: [48, 4], 47: [40, 41], 48: [49, 44, 43, 45], 49: [44, 48, 45]}\n"
     ]
    }
   ],
   "source": [
    "def gal_dic(l):\n",
    "    gal_dic = {}\n",
    "    i = 1\n",
    "    for i in range(len(l)-1):\n",
    "        if i < len(l):\n",
    "            key = int(l[i][0])\n",
    "            value = [int(i) for i in l[i+1]]\n",
    "            gal_dic.update({key : value})\n",
    "            i = i +2\n",
    "            \n",
    "    return(gal_dic)\n",
    "print(gal_dic(gallist))"
   ]
  },
  {
   "cell_type": "code",
   "execution_count": null,
   "metadata": {},
   "outputs": [],
   "source": [
    "# define a second dictionary\n",
    "# the key = the number of neighbours\n",
    "# the value = the list of ids that have key neighbours"
   ]
  },
  {
   "cell_type": "code",
   "execution_count": null,
   "metadata": {},
   "outputs": [],
   "source": [
    "def nbdict(x):\n",
    "    sec_dict = {}\n",
    "    num = []\n",
    "    sec_value = list(x.values())\n",
    "    sec_key = list(x.keys())\n",
    "    for i in range(len(sec_value)):\n",
    "        numbers = len(sec_value[i])\n",
    "        num.append([sec_key[i],numbers])\n",
    "    for i,val in num:\n",
    "        if val not in sec_dict:\n",
    "            sec_dict[val] = []\n",
    "        sec_dict[val].append(i)\n",
    "\n",
    "    return(sec_dict)\n",
    "\n",
    "print(nbdict(galdict(gallist)))"
   ]
  },
  {
   "cell_type": "code",
   "execution_count": null,
   "metadata": {},
   "outputs": [],
   "source": []
  },
  {
   "cell_type": "code",
   "execution_count": null,
   "metadata": {},
   "outputs": [],
   "source": []
  },
  {
   "cell_type": "code",
   "execution_count": null,
   "metadata": {},
   "outputs": [],
   "source": []
  }
 ],
 "metadata": {
  "kernelspec": {
   "display_name": "Python 3",
   "language": "python",
   "name": "python3"
  },
  "language_info": {
   "codemirror_mode": {
    "name": "ipython",
    "version": 3
   },
   "file_extension": ".py",
   "mimetype": "text/x-python",
   "name": "python",
   "nbconvert_exporter": "python",
   "pygments_lexer": "ipython3",
   "version": "3.8.5"
  }
 },
 "nbformat": 4,
 "nbformat_minor": 4
}
