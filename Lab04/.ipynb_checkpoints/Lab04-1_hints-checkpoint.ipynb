{
 "cells": [
  {
   "cell_type": "code",
   "execution_count": 1,
   "metadata": {},
   "outputs": [],
   "source": [
    "import random"
   ]
  },
  {
   "cell_type": "code",
   "execution_count": 2,
   "metadata": {},
   "outputs": [],
   "source": [
    "m = [ random.randint(1,11) for i in range(20) ]"
   ]
  },
  {
   "cell_type": "code",
   "execution_count": 3,
   "metadata": {},
   "outputs": [
    {
     "data": {
      "text/plain": [
       "[3, 10, 11, 7, 10, 2, 5, 2, 9, 6, 10, 10, 9, 7, 6, 8, 11, 10, 6, 2]"
      ]
     },
     "execution_count": 3,
     "metadata": {},
     "output_type": "execute_result"
    }
   ],
   "source": [
    "m"
   ]
  },
  {
   "cell_type": "code",
   "execution_count": 4,
   "metadata": {},
   "outputs": [],
   "source": [
    "sm = set(m)"
   ]
  },
  {
   "cell_type": "code",
   "execution_count": 5,
   "metadata": {},
   "outputs": [
    {
     "data": {
      "text/plain": [
       "{2, 3, 5, 6, 7, 8, 9, 10, 11}"
      ]
     },
     "execution_count": 5,
     "metadata": {},
     "output_type": "execute_result"
    }
   ],
   "source": [
    "sm"
   ]
  },
  {
   "cell_type": "code",
   "execution_count": 6,
   "metadata": {},
   "outputs": [
    {
     "name": "stdout",
     "output_type": "stream",
     "text": [
      "2 3\n",
      "3 1\n",
      "5 1\n",
      "6 3\n",
      "7 2\n",
      "8 1\n",
      "9 2\n",
      "10 5\n",
      "11 2\n"
     ]
    }
   ],
   "source": [
    "for val in sm:\n",
    "    print val, m.count(val)"
   ]
  },
  {
   "cell_type": "code",
   "execution_count": 7,
   "metadata": {},
   "outputs": [
    {
     "name": "stdout",
     "output_type": "stream",
     "text": [
      "0 3\n",
      "1 10\n",
      "2 11\n",
      "3 7\n",
      "4 10\n",
      "5 2\n",
      "6 5\n",
      "7 2\n",
      "8 9\n",
      "9 6\n",
      "10 10\n",
      "11 10\n",
      "12 9\n",
      "13 7\n",
      "14 6\n",
      "15 8\n",
      "16 11\n",
      "17 10\n",
      "18 6\n",
      "19 2\n"
     ]
    }
   ],
   "source": [
    "h = {}\n",
    "for i,val in enumerate(m):\n",
    "    if val not in h:\n",
    "        h[val] = []\n",
    "    h[val].append(i)\n",
    "    print i, val"
   ]
  },
  {
   "cell_type": "code",
   "execution_count": 8,
   "metadata": {},
   "outputs": [
    {
     "data": {
      "text/plain": [
       "{2: [5, 7, 19],\n",
       " 3: [0],\n",
       " 5: [6],\n",
       " 6: [9, 14, 18],\n",
       " 7: [3, 13],\n",
       " 8: [15],\n",
       " 9: [8, 12],\n",
       " 10: [1, 4, 10, 11, 17],\n",
       " 11: [2, 16]}"
      ]
     },
     "execution_count": 8,
     "metadata": {},
     "output_type": "execute_result"
    }
   ],
   "source": [
    "h"
   ]
  },
  {
   "cell_type": "code",
   "execution_count": 9,
   "metadata": {},
   "outputs": [],
   "source": [
    "w = {}\n",
    "w['a'] = ['b', 'c']\n",
    "w['b'] = ['a', 'c', 'd']\n",
    "w['c'] = ['a', 'b', 'd']\n",
    "w['d'] = ['a', 'b', 'c']"
   ]
  },
  {
   "cell_type": "code",
   "execution_count": 10,
   "metadata": {},
   "outputs": [
    {
     "data": {
      "text/plain": [
       "{'a': ['b', 'c'],\n",
       " 'b': ['a', 'c', 'd'],\n",
       " 'c': ['a', 'b', 'd'],\n",
       " 'd': ['a', 'b', 'c']}"
      ]
     },
     "execution_count": 10,
     "metadata": {},
     "output_type": "execute_result"
    }
   ],
   "source": [
    "w\n"
   ]
  },
  {
   "cell_type": "code",
   "execution_count": 11,
   "metadata": {},
   "outputs": [
    {
     "name": "stdout",
     "output_type": "stream",
     "text": [
      "a ['b', 'c']\n",
      "a  says  b is a neighbor\n",
      "ok\n",
      "a  says  c is a neighbor\n",
      "ok\n",
      "c ['a', 'b', 'd']\n",
      "c  says  a is a neighbor\n",
      "ok\n",
      "c  says  b is a neighbor\n",
      "ok\n",
      "c  says  d is a neighbor\n",
      "ok\n",
      "b ['a', 'c', 'd']\n",
      "b  says  a is a neighbor\n",
      "ok\n",
      "b  says  c is a neighbor\n",
      "ok\n",
      "b  says  d is a neighbor\n",
      "ok\n",
      "d ['a', 'b', 'c']\n",
      "d  says  a is a neighbor\n",
      "not ok\n",
      "because  a  says that  d is not a neighbor\n",
      "d  says  b is a neighbor\n",
      "ok\n",
      "d  says  c is a neighbor\n",
      "ok\n"
     ]
    }
   ],
   "source": [
    "for key in w:\n",
    "    print key, w[key]\n",
    "    for neighbor in w[key]:\n",
    "        print key,' says ',neighbor, 'is a neighbor'\n",
    "        if key in w[neighbor]:\n",
    "            print 'ok'\n",
    "        else:\n",
    "            print 'not ok'\n",
    "            print 'because ', neighbor, ' says that ', key, 'is not a neighbor'\n",
    "        "
   ]
  },
  {
   "cell_type": "code",
   "execution_count": 12,
   "metadata": {},
   "outputs": [
    {
     "data": {
      "text/plain": [
       "['b', 'c']"
      ]
     },
     "execution_count": 12,
     "metadata": {},
     "output_type": "execute_result"
    }
   ],
   "source": [
    "w['a']"
   ]
  },
  {
   "cell_type": "code",
   "execution_count": 13,
   "metadata": {},
   "outputs": [
    {
     "data": {
      "text/plain": [
       "['a', 'b', 'd']"
      ]
     },
     "execution_count": 13,
     "metadata": {},
     "output_type": "execute_result"
    }
   ],
   "source": [
    "w['c']"
   ]
  }
 ],
 "metadata": {
  "kernelspec": {
   "display_name": "Python 3",
   "language": "python",
   "name": "python3"
  },
  "language_info": {
   "codemirror_mode": {
    "name": "ipython",
    "version": 3
   },
   "file_extension": ".py",
   "mimetype": "text/x-python",
   "name": "python",
   "nbconvert_exporter": "python",
   "pygments_lexer": "ipython3",
   "version": "3.8.5"
  }
 },
 "nbformat": 4,
 "nbformat_minor": 1
}
