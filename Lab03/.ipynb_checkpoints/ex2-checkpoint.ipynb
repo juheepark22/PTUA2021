{
 "cells": [
  {
   "cell_type": "code",
   "execution_count": 1,
   "metadata": {},
   "outputs": [],
   "source": [
    "#simulating pi"
   ]
  },
  {
   "cell_type": "code",
   "execution_count": 2,
   "metadata": {},
   "outputs": [],
   "source": [
    "import random\n",
    "import math\n",
    "import matplotlib.pyplot as plt"
   ]
  },
  {
   "cell_type": "code",
   "execution_count": 3,
   "metadata": {},
   "outputs": [],
   "source": [
    "pi = math.pi"
   ]
  },
  {
   "cell_type": "code",
   "execution_count": 4,
   "metadata": {},
   "outputs": [
    {
     "data": {
      "text/plain": [
       "3.141592653589793"
      ]
     },
     "execution_count": 4,
     "metadata": {},
     "output_type": "execute_result"
    }
   ],
   "source": [
    "pi"
   ]
  },
  {
   "cell_type": "code",
   "execution_count": null,
   "metadata": {},
   "outputs": [],
   "source": [
    "#within p=0.00001 of the value of pi"
   ]
  },
  {
   "cell_type": "code",
   "execution_count": 46,
   "metadata": {},
   "outputs": [],
   "source": [
    "def piFunction(aa, b):\n",
    "    n = 0 # number of points falling in the unit circle\n",
    "    d = 0 # number of points falling in the unit square\n",
    "    count = 0\n",
    "    simulating = True # use as a sentinel\n",
    "    while simulating:\n",
    "        x = random.random()\n",
    "        y = random.random()\n",
    "        if x**2 + y**2 <= 1.0:\n",
    "            n += 1\n",
    "        d += 1\n",
    "        ratio = 4 * n * 1./d\n",
    "        if abs(ratio-pi) / pi <= 0.00001:\n",
    "            print(ratio)\n",
    "            count = count + 1\n",
    "            if count >= b:\n",
    "                print(\"Draws needed: \", d)\n",
    "                break"
   ]
  },
  {
   "cell_type": "code",
   "execution_count": 47,
   "metadata": {},
   "outputs": [
    {
     "name": "stdout",
     "output_type": "stream",
     "text": [
      "3.1415929203539825\n",
      "3.141585040071238\n",
      "3.1416159860990445\n",
      "3.1415707853926964\n",
      "3.1416074357572445\n",
      "3.141616928920239\n",
      "3.141574585635359\n",
      "3.1416116362380766\n",
      "3.141590253562357\n",
      "3.1415658761244782\n",
      "Draws needed:  23233\n",
      "None\n"
     ]
    }
   ],
   "source": [
    "print(piFunction(0.01, 10))"
   ]
  },
  {
   "cell_type": "code",
   "execution_count": 23,
   "metadata": {},
   "outputs": [
    {
     "name": "stdout",
     "output_type": "stream",
     "text": [
      "3.1415901171998732\n",
      "3.1415929203539825\n",
      "3.1415981198589895\n",
      "3.1416007036059805\n",
      "3.1416109334108753\n",
      "3.1416134648868255\n",
      "3.141573684973192\n",
      "3.14159165595085\n",
      "3.141599204658429\n",
      "3.141570503799606\n",
      "Draws needed:  7106\n",
      "None\n"
     ]
    }
   ],
   "source": [
    "print(piFunction(0.001, 10))"
   ]
  },
  {
   "cell_type": "code",
   "execution_count": 24,
   "metadata": {},
   "outputs": [
    {
     "name": "stdout",
     "output_type": "stream",
     "text": [
      "3.14158855451406\n",
      "3.1415770609319\n",
      "3.141585040071238\n",
      "3.1415929203539825\n",
      "3.1416083916083917\n",
      "3.1416159860990445\n",
      "3.1415675010258513\n",
      "3.1415893505445744\n",
      "3.141566265060241\n",
      "3.1416122004357296\n",
      "Draws needed:  2754\n",
      "None\n"
     ]
    }
   ],
   "source": [
    "print(piFunction(0.0001, 10))"
   ]
  },
  {
   "cell_type": "code",
   "execution_count": 25,
   "metadata": {},
   "outputs": [
    {
     "name": "stdout",
     "output_type": "stream",
     "text": [
      "3.1415929203539825\n",
      "3.1415797317436662\n",
      "3.141573033707865\n",
      "3.141609482220836\n",
      "3.1416202844774275\n",
      "3.141571194762684\n",
      "3.1415748674010606\n",
      "3.1415625861865175\n",
      "3.1415740959584024\n",
      "3.141607909560011\n",
      "Draws needed:  25387\n",
      "None\n"
     ]
    }
   ],
   "source": [
    "print(piFunction(0.00001, 10))"
   ]
  },
  {
   "cell_type": "code",
   "execution_count": 27,
   "metadata": {},
   "outputs": [
    {
     "data": {
      "text/plain": [
       "671"
      ]
     },
     "execution_count": 27,
     "metadata": {},
     "output_type": "execute_result"
    }
   ],
   "source": [
    "d"
   ]
  },
  {
   "cell_type": "code",
   "execution_count": 28,
   "metadata": {},
   "outputs": [],
   "source": [
    "import random\n",
    "import math\n",
    "import numpy as np"
   ]
  },
  {
   "cell_type": "code",
   "execution_count": 29,
   "metadata": {},
   "outputs": [],
   "source": [
    "pi = math.pi"
   ]
  },
  {
   "cell_type": "code",
   "execution_count": 44,
   "metadata": {},
   "outputs": [],
   "source": [
    "def drawFunction(aa,b):\n",
    "    C = []\n",
    "    for i in range(b):\n",
    "        n = 0\n",
    "        d = 0\n",
    "        count = 0\n",
    "        simulating = True\n",
    "        while simulating:\n",
    "            x = random.random()\n",
    "            y = random.random()\n",
    "            if x**2 + y**2 <= 1.0:\n",
    "                n += 1\n",
    "            d += 1\n",
    "            ratio = 4*n*1./d\n",
    "            if abs(ratio-pi) / pi <= aa:\n",
    "                simulating = False\n",
    "                break\n",
    "        C.append(d)\n",
    "    print(C)\n",
    "    m = np.mean(C)\n",
    "    print(\"Average draws: \", m)\n",
    "    stdll = np.std(C)\n",
    "    print(\"Standard deviation of draws:\", stdll)"
   ]
  },
  {
   "cell_type": "code",
   "execution_count": 48,
   "metadata": {},
   "outputs": [
    {
     "name": "stdout",
     "output_type": "stream",
     "text": [
      "[9, 90, 221, 9, 9, 9, 553, 9, 45, 28]\n",
      "Average draws:  98.2\n",
      "Standard deviation of draws:  164.17417580118988\n",
      "None\n"
     ]
    }
   ],
   "source": [
    "print(drawFunction(0.01, 10))"
   ]
  },
  {
   "cell_type": "code",
   "execution_count": 35,
   "metadata": {},
   "outputs": [
    {
     "name": "stdout",
     "output_type": "stream",
     "text": [
      "[242, 14, 84, 42, 14, 107, 65, 14, 14, 42]\n",
      "Average draws:  63.8\n",
      "Standard deviation of draws:  67.00865615724582\n",
      "None\n"
     ]
    }
   ],
   "source": [
    "print(drawFunction(0.001, 10))"
   ]
  },
  {
   "cell_type": "code",
   "execution_count": 36,
   "metadata": {},
   "outputs": [
    {
     "name": "stdout",
     "output_type": "stream",
     "text": [
      "[2144, 275, 615, 396, 191, 2139, 289, 205, 755, 6083]\n",
      "Average draws:  1309.2\n",
      "Standard deviation of draws:  1742.9175998881876\n",
      "None\n"
     ]
    }
   ],
   "source": [
    "print(drawFunction(0.0001, 10))"
   ]
  },
  {
   "cell_type": "code",
   "execution_count": 37,
   "metadata": {},
   "outputs": [
    {
     "name": "stdout",
     "output_type": "stream",
     "text": [
      "[1384, 890, 2670, 5340, 25871, 1370, 1328, 4944, 4795, 1137]\n",
      "Average draws:  4972.9\n",
      "Standard deviation of draws:  7160.529078915887\n",
      "None\n"
     ]
    }
   ],
   "source": [
    "print(drawFunction(0.00001, 10))"
   ]
  },
  {
   "cell_type": "code",
   "execution_count": 11,
   "metadata": {},
   "outputs": [
    {
     "name": "stdout",
     "output_type": "stream",
     "text": [
      "4.0\n",
      "2.0\n",
      "2.6666666666666665\n",
      "2.0\n",
      "2.4\n",
      "2.6666666666666665\n",
      "2.857142857142857\n",
      "3.0\n",
      "3.111111111111111\n",
      "2.8\n",
      "2.909090909090909\n",
      "2.6666666666666665\n",
      "2.4615384615384617\n",
      "2.5714285714285716\n",
      "2.6666666666666665\n",
      "2.75\n",
      "2.823529411764706\n",
      "2.888888888888889\n",
      "2.736842105263158\n",
      "2.8\n",
      "2.6666666666666665\n",
      "2.727272727272727\n",
      "2.608695652173913\n",
      "2.6666666666666665\n",
      "2.72\n",
      "2.6153846153846154\n",
      "2.6666666666666665\n",
      "2.7142857142857144\n",
      "2.7586206896551726\n",
      "2.8\n",
      "2.838709677419355\n",
      "2.875\n",
      "2.909090909090909\n",
      "2.9411764705882355\n",
      "2.9714285714285715\n",
      "3.0\n",
      "3.027027027027027\n",
      "3.0526315789473686\n",
      "3.076923076923077\n",
      "3.0\n",
      "3.024390243902439\n",
      "2.9523809523809526\n",
      "2.9767441860465116\n",
      "3.0\n",
      "3.022222222222222\n",
      "3.0434782608695654\n",
      "3.0638297872340425\n",
      "3.0833333333333335\n",
      "3.1020408163265305\n",
      "3.12\n",
      "3.1372549019607843\n",
      "3.1538461538461537\n",
      "3.169811320754717\n",
      "3.185185185185185\n",
      "3.2\n",
      "3.142857142857143\n",
      "3.1578947368421053\n",
      "3.1724137931034484\n",
      "3.1864406779661016\n",
      "3.1333333333333333\n",
      "3.1475409836065573\n",
      "3.161290322580645\n",
      "3.1746031746031744\n",
      "3.1875\n",
      "3.2\n",
      "3.212121212121212\n",
      "3.2238805970149254\n",
      "3.235294117647059\n",
      "3.246376811594203\n",
      "3.257142857142857\n",
      "3.267605633802817\n",
      "3.2777777777777777\n",
      "3.287671232876712\n",
      "3.2432432432432434\n",
      "3.2533333333333334\n",
      "3.210526315789474\n",
      "3.220779220779221\n",
      "3.230769230769231\n",
      "3.240506329113924\n",
      "3.2\n",
      "3.2098765432098766\n",
      "3.1707317073170733\n",
      "3.180722891566265\n",
      "3.142857142857143\n",
      "3.152941176470588\n",
      "3.1627906976744184\n",
      "3.1724137931034484\n",
      "3.1818181818181817\n",
      "3.191011235955056\n",
      "3.1555555555555554\n",
      "3.1648351648351647\n",
      "3.130434782608696\n",
      "3.139784946236559\n",
      "3.148936170212766\n",
      "3.1578947368421053\n",
      "3.1666666666666665\n",
      "3.1752577319587627\n",
      "3.142857142857143\n",
      "3.111111111111111\n",
      "3.12\n",
      "3.128712871287129\n",
      "3.1372549019607843\n",
      "3.145631067961165\n",
      "3.1538461538461537\n",
      "3.123809523809524\n",
      "3.1320754716981134\n",
      "3.1401869158878504\n",
      "3.1481481481481484\n",
      "3.1559633027522938\n",
      "3.1636363636363636\n",
      "3.135135135135135\n",
      "3.107142857142857\n",
      "3.1150442477876106\n",
      "3.1228070175438596\n",
      "3.130434782608696\n",
      "3.103448275862069\n",
      "3.111111111111111\n",
      "3.1186440677966103\n",
      "3.092436974789916\n",
      "3.1\n",
      "3.074380165289256\n",
      "3.081967213114754\n",
      "3.089430894308943\n",
      "3.096774193548387\n",
      "3.104\n",
      "3.111111111111111\n",
      "3.1181102362204722\n",
      "3.125\n",
      "3.131782945736434\n",
      "3.1076923076923078\n",
      "3.114503816793893\n",
      "3.121212121212121\n",
      "3.1278195488721803\n",
      "3.1343283582089554\n",
      "3.140740740740741\n",
      "3.1470588235294117\n",
      "3.153284671532847\n",
      "3.1594202898550723\n",
      "3.1654676258992804\n",
      "3.1714285714285713\n",
      "3.1773049645390072\n",
      "3.183098591549296\n",
      "3.1888111888111887\n",
      "3.1944444444444446\n",
      "3.1724137931034484\n",
      "3.1780821917808217\n",
      "3.183673469387755\n",
      "3.189189189189189\n",
      "3.1946308724832213\n",
      "3.2\n",
      "3.205298013245033\n",
      "3.210526315789474\n",
      "3.215686274509804\n",
      "3.1948051948051948\n",
      "3.2\n",
      "3.1794871794871793\n",
      "3.1847133757961785\n",
      "3.1645569620253164\n",
      "3.169811320754717\n",
      "3.175\n",
      "3.1801242236024843\n",
      "3.1604938271604937\n",
      "3.1411042944785277\n",
      "3.1463414634146343\n",
      "3.1515151515151514\n",
      "3.1566265060240966\n",
      "3.161676646706587\n",
      "3.1666666666666665\n",
      "3.171597633136095\n",
      "3.176470588235294\n",
      "3.181286549707602\n",
      "3.186046511627907\n",
      "3.1907514450867054\n",
      "3.1954022988505746\n",
      "3.177142857142857\n",
      "3.1818181818181817\n",
      "3.1864406779661016\n",
      "3.191011235955056\n",
      "3.195530726256983\n",
      "3.2\n",
      "3.18232044198895\n",
      "3.1648351648351647\n",
      "3.169398907103825\n",
      "3.152173913043478\n",
      "3.156756756756757\n",
      "3.161290322580645\n",
      "3.165775401069519\n",
      "3.148936170212766\n",
      "3.132275132275132\n",
      "3.136842105263158\n",
      "3.141361256544503\n",
      "3.1458333333333335\n",
      "3.1295336787564767\n",
      "3.134020618556701\n",
      "3.1384615384615384\n",
      "3.142857142857143\n",
      "3.1472081218274113\n",
      "3.1515151515151514\n",
      "3.1557788944723617\n",
      "3.16\n",
      "3.1641791044776117\n",
      "3.1683168316831685\n",
      "3.1724137931034484\n",
      "3.176470588235294\n",
      "3.1609756097560977\n",
      "3.1650485436893203\n",
      "3.1690821256038646\n",
      "3.1538461538461537\n",
      "3.1578947368421053\n",
      "3.1619047619047618\n",
      "3.1658767772511847\n",
      "3.169811320754717\n",
      "3.1549295774647885\n",
      "3.1588785046728973\n",
      "3.1627906976744184\n",
      "3.1481481481481484\n",
      "3.152073732718894\n",
      "3.1559633027522938\n",
      "3.1598173515981736\n",
      "3.1636363636363636\n",
      "3.1493212669683257\n",
      "3.1531531531531534\n",
      "3.1569506726457397\n",
      "3.1607142857142856\n",
      "3.1644444444444444\n",
      "3.168141592920354\n",
      "3.171806167400881\n",
      "3.175438596491228\n",
      "3.1615720524017465\n",
      "3.1652173913043478\n",
      "3.1515151515151514\n",
      "3.1551724137931036\n",
      "3.1416309012875536\n",
      "3.1452991452991452\n",
      "3.148936170212766\n",
      "3.152542372881356\n",
      "3.1392405063291138\n",
      "3.142857142857143\n",
      "3.1464435146443517\n",
      "3.15\n",
      "3.136929460580913\n",
      "3.12396694214876\n",
      "3.1275720164609053\n",
      "3.1311475409836067\n",
      "3.1346938775510202\n",
      "3.138211382113821\n",
      "3.1417004048582995\n",
      "3.1451612903225805\n",
      "3.1485943775100402\n",
      "3.152\n",
      "3.1553784860557768\n",
      "3.1587301587301586\n",
      "3.1620553359683794\n",
      "3.1653543307086616\n",
      "3.168627450980392\n",
      "3.171875\n",
      "3.1750972762645913\n",
      "3.1627906976744184\n",
      "3.166023166023166\n",
      "3.169230769230769\n",
      "3.157088122605364\n",
      "3.1603053435114505\n",
      "3.1634980988593155\n",
      "3.1666666666666665\n",
      "3.169811320754717\n",
      "3.172932330827068\n",
      "3.1760299625468167\n",
      "3.1641791044776117\n",
      "3.16728624535316\n",
      "3.1703703703703705\n",
      "3.158671586715867\n",
      "3.161764705882353\n",
      "3.15018315018315\n",
      "3.153284671532847\n",
      "3.1563636363636363\n",
      "3.1594202898550723\n",
      "3.1624548736462095\n",
      "3.1510791366906474\n",
      "3.154121863799283\n",
      "3.157142857142857\n",
      "3.1601423487544484\n",
      "3.148936170212766\n",
      "3.137809187279152\n",
      "3.140845070422535\n",
      "3.143859649122807\n",
      "3.1468531468531467\n",
      "3.1498257839721253\n",
      "3.138888888888889\n",
      "3.1280276816608996\n",
      "3.117241379310345\n",
      "3.120274914089347\n",
      "3.1232876712328768\n",
      "3.1262798634812285\n",
      "3.129251700680272\n",
      "3.1322033898305084\n",
      "3.135135135135135\n",
      "3.138047138047138\n",
      "3.140939597315436\n",
      "3.1438127090301005\n",
      "3.1466666666666665\n",
      "3.1495016611295683\n",
      "3.152317880794702\n",
      "3.155115511551155\n",
      "3.1447368421052633\n",
      "3.134426229508197\n",
      "3.1372549019607843\n",
      "3.1400651465798046\n",
      "3.142857142857143\n",
      "3.132686084142395\n",
      "3.1354838709677417\n",
      "3.1382636655948555\n",
      "3.128205128205128\n",
      "3.130990415335463\n",
      "3.121019108280255\n",
      "3.111111111111111\n",
      "3.1139240506329116\n",
      "3.1167192429022084\n",
      "3.119496855345912\n",
      "3.122257053291536\n",
      "3.125\n",
      "3.127725856697819\n",
      "3.130434782608696\n",
      "3.1331269349845203\n",
      "3.1358024691358026\n",
      "3.126153846153846\n",
      "3.128834355828221\n",
      "3.1192660550458715\n",
      "3.1219512195121952\n",
      "3.1246200607902734\n",
      "3.1151515151515152\n",
      "3.117824773413897\n",
      "3.1204819277108435\n",
      "3.123123123123123\n",
      "3.1137724550898205\n",
      "3.1164179104477614\n",
      "3.119047619047619\n",
      "3.1097922848664687\n",
      "3.1124260355029585\n",
      "3.103244837758112\n",
      "3.1058823529411765\n",
      "3.096774193548387\n",
      "3.0994152046783627\n",
      "3.1020408163265305\n",
      "3.104651162790698\n",
      "3.0956521739130434\n",
      "3.098265895953757\n",
      "3.1008645533141213\n",
      "3.0919540229885056\n",
      "3.0945558739255015\n",
      "3.085714285714286\n",
      "3.0883190883190883\n",
      "3.090909090909091\n",
      "3.093484419263456\n",
      "3.096045197740113\n",
      "3.0985915492957745\n",
      "3.0898876404494384\n",
      "3.092436974789916\n",
      "3.083798882681564\n",
      "3.086350974930362\n",
      "3.088888888888889\n",
      "3.0914127423822713\n",
      "3.0939226519337018\n",
      "3.0964187327823693\n",
      "3.087912087912088\n",
      "3.0904109589041098\n",
      "3.092896174863388\n",
      "3.095367847411444\n",
      "3.097826086956522\n",
      "3.089430894308943\n",
      "3.091891891891892\n",
      "3.08355795148248\n",
      "3.086021505376344\n",
      "3.0884718498659516\n",
      "3.090909090909091\n",
      "3.0933333333333333\n",
      "3.095744680851064\n",
      "3.0875331564986737\n",
      "3.0899470899470898\n",
      "3.0923482849604222\n",
      "3.094736842105263\n",
      "3.0971128608923886\n",
      "3.099476439790576\n",
      "3.101827676240209\n",
      "3.1041666666666665\n",
      "3.1064935064935066\n",
      "3.1088082901554404\n",
      "3.111111111111111\n",
      "3.11340206185567\n",
      "3.115681233933162\n",
      "3.117948717948718\n",
      "3.1202046035805626\n",
      "3.122448979591837\n",
      "3.114503816793893\n",
      "3.116751269035533\n",
      "3.118987341772152\n",
      "3.111111111111111\n",
      "3.1133501259445846\n",
      "3.1155778894472363\n",
      "3.117794486215539\n",
      "3.12\n",
      "3.112219451371571\n",
      "3.1044776119402986\n",
      "3.106699751861042\n",
      "3.108910891089109\n",
      "3.111111111111111\n",
      "3.1133004926108376\n",
      "3.1056511056511056\n",
      "3.107843137254902\n",
      "3.1100244498777507\n",
      "3.1121951219512196\n",
      "3.1143552311435525\n",
      "3.1067961165048543\n",
      "3.108958837772397\n",
      "3.101449275362319\n",
      "3.103614457831325\n",
      "3.0961538461538463\n",
      "3.0983213429256593\n",
      "3.1004784688995217\n",
      "3.1026252983293556\n",
      "3.104761904761905\n",
      "3.0973871733966747\n",
      "3.090047393364929\n",
      "3.08274231678487\n",
      "3.0849056603773586\n",
      "3.0870588235294116\n",
      "3.07981220657277\n",
      "3.081967213114754\n",
      "3.0841121495327104\n",
      "3.086247086247086\n",
      "3.088372093023256\n",
      "3.0904872389791183\n",
      "3.0925925925925926\n",
      "3.094688221709007\n",
      "3.096774193548387\n",
      "3.089655172413793\n",
      "3.091743119266055\n",
      "3.0938215102974826\n",
      "3.095890410958904\n",
      "3.0979498861047836\n",
      "3.1\n",
      "3.1020408163265305\n",
      "3.1040723981900453\n",
      "3.0970654627539504\n",
      "3.09009009009009\n",
      "3.0921348314606742\n",
      "3.094170403587444\n",
      "3.087248322147651\n",
      "3.0892857142857144\n",
      "3.091314031180401\n",
      "3.0933333333333333\n",
      "3.0864745011086474\n",
      "3.088495575221239\n",
      "3.0905077262693155\n",
      "3.0837004405286343\n",
      "3.085714285714286\n",
      "3.087719298245614\n",
      "3.0809628008752736\n",
      "3.0829694323144103\n",
      "3.076252723311547\n",
      "3.0782608695652174\n",
      "3.0802603036876355\n",
      "3.0822510822510822\n",
      "3.084233261339093\n",
      "3.086206896551724\n",
      "3.088172043010753\n",
      "3.0901287553648067\n",
      "3.0835117773019274\n",
      "3.0854700854700856\n",
      "3.0788912579957355\n",
      "3.0808510638297872\n",
      "3.082802547770701\n",
      "3.0762711864406778\n",
      "3.0697674418604652\n",
      "3.071729957805907\n",
      "3.0736842105263156\n",
      "3.0672268907563027\n",
      "3.069182389937107\n",
      "3.071129707112971\n",
      "3.0647181628392484\n",
      "3.066666666666667\n",
      "3.0686070686070686\n",
      "3.0622406639004147\n",
      "3.0641821946169774\n",
      "3.0661157024793386\n",
      "3.0597938144329895\n",
      "3.0617283950617282\n",
      "3.0636550308008212\n",
      "3.057377049180328\n",
      "3.0593047034764824\n",
      "3.061224489795918\n",
      "3.0631364562118124\n",
      "3.0569105691056913\n",
      "3.0588235294117645\n",
      "3.0607287449392713\n",
      "3.062626262626263\n",
      "3.064516129032258\n",
      "3.058350100603622\n",
      "3.0602409638554215\n",
      "3.062124248496994\n",
      "3.064\n",
      "3.057884231536926\n",
      "3.0597609561752988\n",
      "3.0536779324055665\n",
      "3.0555555555555554\n",
      "3.0574257425742575\n",
      "3.0513833992094863\n",
      "3.0532544378698225\n",
      "3.0551181102362204\n",
      "3.056974459724951\n",
      "3.0588235294117645\n",
      "3.060665362035225\n",
      "3.0625\n",
      "3.056530214424951\n",
      "3.0583657587548636\n",
      "3.0601941747572816\n",
      "3.062015503875969\n",
      "3.0638297872340425\n",
      "3.057915057915058\n",
      "3.0597302504816954\n",
      "3.0615384615384613\n",
      "3.055662188099808\n",
      "3.057471264367816\n",
      "3.0592734225621414\n",
      "3.0610687022900764\n",
      "3.0628571428571427\n",
      "3.064638783269962\n",
      "3.0588235294117645\n",
      "3.0606060606060606\n",
      "3.062381852551985\n",
      "3.0641509433962266\n",
      "3.065913370998117\n",
      "3.0676691729323307\n",
      "3.069418386491557\n",
      "3.0636704119850187\n",
      "3.0654205607476634\n",
      "3.0671641791044775\n",
      "3.0614525139664805\n",
      "3.0557620817843865\n",
      "3.057513914656772\n",
      "3.051851851851852\n",
      "3.053604436229205\n",
      "3.055350553505535\n",
      "3.0570902394106816\n",
      "3.0588235294117645\n",
      "3.0605504587155963\n",
      "3.062271062271062\n",
      "3.0639853747714807\n",
      "3.065693430656934\n",
      "3.0673952641165756\n",
      "3.061818181818182\n",
      "3.0635208711433757\n",
      "3.0652173913043477\n",
      "3.0669077757685352\n",
      "3.068592057761733\n",
      "3.0702702702702704\n",
      "3.064748201438849\n",
      "3.059245960502693\n",
      "3.060931899641577\n",
      "3.0626118067978534\n",
      "3.057142857142857\n",
      "3.0588235294117645\n",
      "3.0604982206405693\n",
      "3.0621669626998225\n",
      "3.0638297872340425\n",
      "3.0654867256637166\n",
      "3.067137809187279\n",
      "3.068783068783069\n",
      "3.0704225352112675\n",
      "3.0720562390158173\n",
      "3.0736842105263156\n",
      "3.075306479859895\n",
      "3.076923076923077\n",
      "3.0785340314136125\n",
      "3.0801393728222997\n",
      "3.0817391304347828\n",
      "3.0833333333333335\n",
      "3.0849220103986137\n",
      "3.0795847750865053\n",
      "3.081174438687392\n",
      "3.0827586206896553\n",
      "3.0843373493975905\n",
      "3.0859106529209623\n",
      "3.0806174957118353\n",
      "3.0821917808219177\n",
      "3.083760683760684\n",
      "3.0853242320819114\n",
      "3.0868824531516186\n",
      "3.0884353741496597\n",
      "3.089983022071307\n",
      "3.0915254237288137\n",
      "3.093062605752961\n",
      "3.0945945945945947\n",
      "3.096121416526138\n",
      "3.0976430976430978\n",
      "3.0991596638655463\n",
      "3.1006711409395975\n",
      "3.102177554438861\n",
      "3.1036789297658864\n",
      "3.1051752921535893\n",
      "3.1066666666666665\n",
      "3.108153078202995\n",
      "3.1096345514950166\n",
      "3.111111111111111\n",
      "3.1125827814569536\n",
      "3.1140495867768596\n",
      "3.1155115511551155\n",
      "3.110378912685338\n",
      "3.111842105263158\n",
      "3.1067323481116587\n",
      "3.101639344262295\n",
      "3.0965630114566283\n",
      "3.0980392156862746\n",
      "3.099510603588907\n",
      "3.1009771986970684\n",
      "3.102439024390244\n",
      "3.103896103896104\n",
      "3.1053484602917343\n",
      "3.1067961165048543\n",
      "3.108239095315024\n",
      "3.109677419354839\n",
      "3.111111111111111\n",
      "3.112540192926045\n",
      "3.113964686998395\n",
      "3.1153846153846154\n",
      "3.1168\n",
      "3.1182108626198084\n",
      "3.1196172248803826\n",
      "3.121019108280255\n",
      "3.12241653418124\n",
      "3.123809523809524\n",
      "3.1251980982567353\n",
      "3.1265822784810124\n",
      "3.1279620853080567\n",
      "3.1293375394321767\n",
      "3.130708661417323\n",
      "3.1320754716981134\n",
      "3.133437990580848\n",
      "3.134796238244514\n",
      "3.136150234741784\n",
      "3.1375\n",
      "3.138845553822153\n",
      "3.133956386292835\n",
      "3.135303265940902\n",
      "3.1366459627329193\n",
      "3.137984496124031\n",
      "3.1393188854489162\n",
      "3.1406491499227203\n",
      "3.1419753086419755\n",
      "3.143297380585516\n",
      "3.144615384615385\n",
      "3.139784946236559\n",
      "3.1411042944785277\n",
      "3.1362940275650844\n",
      "3.1376146788990824\n",
      "3.132824427480916\n",
      "3.1341463414634148\n",
      "3.1354642313546424\n",
      "3.13677811550152\n",
      "3.1380880121396055\n",
      "3.1333333333333333\n",
      "3.13464447806354\n",
      "3.13595166163142\n",
      "3.1372549019607843\n",
      "3.13855421686747\n",
      "3.1398496240601506\n",
      "3.135135135135135\n",
      "3.136431784107946\n",
      "3.1377245508982035\n",
      "3.1390134529147984\n",
      "3.1402985074626866\n",
      "3.1415797317436662\n",
      "Draws needed:  671\n"
     ]
    }
   ],
   "source": [
    "n = 0\n",
    "d = 0\n",
    "ratios = []\n",
    "xs = []\n",
    "ys = []\n",
    "simulating = True # use as a sentinel\n",
    "while simulating:\n",
    "    x = random.random()\n",
    "    y = random.random()\n",
    "    xs.append(x)\n",
    "    ys.append(y)\n",
    "    if x**2 + y**2 <= 1.0:\n",
    "        n += 1\n",
    "    d += 1\n",
    "    ratio = 4 * n * 1./d\n",
    "    \n",
    "    print(ratio)\n",
    "    ratios.append(ratio)\n",
    "    if abs(ratio-pi) / pi <= 0.00001:\n",
    "        print(\"Draws needed: \", d)\n",
    "        break"
   ]
  },
  {
   "cell_type": "code",
   "execution_count": 21,
   "metadata": {},
   "outputs": [
    {
     "data": {
      "text/plain": [
       "671"
      ]
     },
     "execution_count": 21,
     "metadata": {},
     "output_type": "execute_result"
    }
   ],
   "source": [
    "d"
   ]
  },
  {
   "cell_type": "code",
   "execution_count": null,
   "metadata": {},
   "outputs": [],
   "source": []
  },
  {
   "cell_type": "code",
   "execution_count": null,
   "metadata": {},
   "outputs": [],
   "source": [
    "#Plot the first 10 pi estimation"
   ]
  },
  {
   "cell_type": "code",
   "execution_count": 13,
   "metadata": {},
   "outputs": [
    {
     "data": {
      "text/plain": [
       "[<matplotlib.lines.Line2D at 0x116d7fe80>]"
      ]
     },
     "execution_count": 13,
     "metadata": {},
     "output_type": "execute_result"
    },
    {
     "data": {
      "image/png": "[encoded data removed]",
      "text/plain": [
       "<Figure size 432x288 with 1 Axes>"
      ]
     },
     "metadata": {
      "needs_background": "light"
     },
     "output_type": "display_data"
    }
   ],
   "source": [
    "plt.plot(ratios[:10])"
   ]
  },
  {
   "cell_type": "code",
   "execution_count": 14,
   "metadata": {},
   "outputs": [
    {
     "data": {
      "text/plain": [
       "671"
      ]
     },
     "execution_count": 14,
     "metadata": {},
     "output_type": "execute_result"
    }
   ],
   "source": [
    "len(ratios)"
   ]
  },
  {
   "cell_type": "code",
   "execution_count": 7,
   "metadata": {},
   "outputs": [],
   "source": [
    "#Plot the first 500 pi estimation \n",
    "#with min and max values of the estimation"
   ]
  },
  {
   "cell_type": "code",
   "execution_count": 15,
   "metadata": {},
   "outputs": [
    {
     "data": {
      "text/plain": [
       "(2.0, 4.0)"
      ]
     },
     "execution_count": 15,
     "metadata": {},
     "output_type": "execute_result"
    },
    {
     "data": {
      "image/png": "[encoded data removed]",
      "text/plain": [
       "<Figure size 432x288 with 1 Axes>"
      ]
     },
     "metadata": {
      "needs_background": "light"
     },
     "output_type": "display_data"
    }
   ],
   "source": [
    "plt.plot(ratios[:500])\n",
    "plt.ylim(min(ratios), max(ratios))"
   ]
  },
  {
   "cell_type": "code",
   "execution_count": 16,
   "metadata": {},
   "outputs": [
    {
     "data": {
      "text/plain": [
       "[4.0,\n",
       " 2.0,\n",
       " 2.6666666666666665,\n",
       " 2.0,\n",
       " 2.4,\n",
       " 2.6666666666666665,\n",
       " 2.857142857142857,\n",
       " 3.0,\n",
       " 3.111111111111111,\n",
       " 2.8]"
      ]
     },
     "execution_count": 16,
     "metadata": {},
     "output_type": "execute_result"
    }
   ],
   "source": [
    "ratios[:10]"
   ]
  },
  {
   "cell_type": "code",
   "execution_count": 6,
   "metadata": {},
   "outputs": [],
   "source": [
    "#Plot the entire pi estimation"
   ]
  },
  {
   "cell_type": "code",
   "execution_count": 17,
   "metadata": {},
   "outputs": [
    {
     "data": {
      "text/plain": [
       "[<matplotlib.lines.Line2D at 0x116fd4f40>]"
      ]
     },
     "execution_count": 17,
     "metadata": {},
     "output_type": "execute_result"
    },
    {
     "data": {
      "image/png": "[encoded data removed]",
      "text/plain": [
       "<Figure size 432x288 with 1 Axes>"
      ]
     },
     "metadata": {
      "needs_background": "light"
     },
     "output_type": "display_data"
    }
   ],
   "source": [
    "plt.plot(ratios)"
   ]
  },
  {
   "cell_type": "code",
   "execution_count": null,
   "metadata": {},
   "outputs": [],
   "source": []
  },
  {
   "cell_type": "code",
   "execution_count": null,
   "metadata": {},
   "outputs": [],
   "source": []
  }
 ],
 "metadata": {
  "kernelspec": {
   "display_name": "Python 3",
   "language": "python",
   "name": "python3"
  },
  "language_info": {
   "codemirror_mode": {
    "name": "ipython",
    "version": 3
   },
   "file_extension": ".py",
   "mimetype": "text/x-python",
   "name": "python",
   "nbconvert_exporter": "python",
   "pygments_lexer": "ipython3",
   "version": "3.8.5"
  }
 },
 "nbformat": 4,
 "nbformat_minor": 4
}
