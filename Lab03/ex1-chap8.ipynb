{
 "cells": [
  {
   "cell_type": "code",
   "execution_count": 1,
   "metadata": {},
   "outputs": [],
   "source": [
    "#chap8_ex2\n",
    "#count the number of \"a\" in \"banana\""
   ]
  },
  {
   "cell_type": "code",
   "execution_count": 40,
   "metadata": {},
   "outputs": [
    {
     "name": "stdout",
     "output_type": "stream",
     "text": [
      "3\n"
     ]
    }
   ],
   "source": [
    "def countFunction(word, x):\n",
    "    count = 0\n",
    "    for letter in word:\n",
    "        if letter == x:\n",
    "            count = count + 1\n",
    "    print(count)\n",
    "countFunction(\"banana\", \"a\")"
   ]
  },
  {
   "cell_type": "code",
   "execution_count": 3,
   "metadata": {},
   "outputs": [],
   "source": [
    "#chap8_ex3\n",
    "#is_palindrome"
   ]
  },
  {
   "cell_type": "code",
   "execution_count": 46,
   "metadata": {},
   "outputs": [
    {
     "name": "stdout",
     "output_type": "stream",
     "text": [
      "True\n"
     ]
    }
   ],
   "source": [
    "def is_palindrome(word):\n",
    "    new_word = word[::-1]\n",
    "    if new_word == word:\n",
    "        return True\n",
    "    else:\n",
    "        return False\n",
    "print(is_palindrome(\"malayalam\"))"
   ]
  },
  {
   "cell_type": "code",
   "execution_count": null,
   "metadata": {},
   "outputs": [],
   "source": [
    "#chap8_ex4\n",
    "#check whether a string contains any lowercase letters"
   ]
  },
  {
   "cell_type": "code",
   "execution_count": 54,
   "metadata": {},
   "outputs": [
    {
     "name": "stdout",
     "output_type": "stream",
     "text": [
      "True\n"
     ]
    }
   ],
   "source": [
    "def any_lowercase1(s):   \n",
    "    for c in s:\n",
    "        if c.islower():  # When any character is lowercase, the code will return True.\n",
    "            return True\n",
    "        else:            # When the first character is uppercase, code will return False.\n",
    "            return False\n",
    "print(any_lowercase1(\"fAlse\"))"
   ]
  },
  {
   "cell_type": "code",
   "execution_count": null,
   "metadata": {},
   "outputs": [],
   "source": []
  },
  {
   "cell_type": "code",
   "execution_count": 51,
   "metadata": {},
   "outputs": [
    {
     "name": "stdout",
     "output_type": "stream",
     "text": [
      "True\n"
     ]
    }
   ],
   "source": [
    "def any_lowercase2(s):\n",
    "    for c in s:\n",
    "        if 'c'.islower(): # Because 'c' is lowercase anyway, the result will be always True.\n",
    "            return 'True'\n",
    "        else:\n",
    "            return 'False'\n",
    "print(any_lowercase2(\"FALSE\"))"
   ]
  },
  {
   "cell_type": "code",
   "execution_count": 56,
   "metadata": {},
   "outputs": [
    {
     "name": "stdout",
     "output_type": "stream",
     "text": [
      "True\n"
     ]
    }
   ],
   "source": [
    "def any_lowercase3(s):\n",
    "    for c in s:             # Only the last result will be reserved.\n",
    "        flag = c.islower()  # If the last character is uppercase, the result will be always False.\n",
    "    return flag             # IF the last character is lowercase, the result will be always True.\n",
    "print(any_lowercase3(\"faLse\"))"
   ]
  },
  {
   "cell_type": "code",
   "execution_count": 59,
   "metadata": {},
   "outputs": [
    {
     "name": "stdout",
     "output_type": "stream",
     "text": [
      "True\n"
     ]
    }
   ],
   "source": [
    "def any_lowercase4(s):\n",
    "    flag = False       # The result will be always True.\n",
    "    for c in s:\n",
    "        flag = flag or c.islower()\n",
    "    return flag\n",
    "print(any_lowercase4(\"FaLsE\"))"
   ]
  },
  {
   "cell_type": "code",
   "execution_count": 63,
   "metadata": {},
   "outputs": [
    {
     "name": "stdout",
     "output_type": "stream",
     "text": [
      "False\n"
     ]
    }
   ],
   "source": [
    "def any_lowercase5(s):\n",
    "    for c in s:\n",
    "        if not c.islower(): # When there is at least one uppercase character, the result will be always False.\n",
    "            return False\n",
    "    return True\n",
    "print(any_lowercase5(\"faLse\"))"
   ]
  },
  {
   "cell_type": "code",
   "execution_count": 28,
   "metadata": {},
   "outputs": [],
   "source": [
    "#chap8_ex5\n",
    "#rotate_word function"
   ]
  },
  {
   "cell_type": "code",
   "execution_count": 86,
   "metadata": {},
   "outputs": [],
   "source": [
    "def rotate_letter(letter, x):\n",
    "    if letter.isupper():\n",
    "        start = ord(\"A\")\n",
    "    elif letter.islower():\n",
    "        start = ord(\"a\")\n",
    "    else:\n",
    "        return letter\n",
    "    m = ord(letter)-start\n",
    "    n = (m + x) % 26 + start\n",
    "    return chr(n)"
   ]
  },
  {
   "cell_type": "code",
   "execution_count": 88,
   "metadata": {},
   "outputs": [
    {
     "name": "stdout",
     "output_type": "stream",
     "text": [
      "hfy\n"
     ]
    }
   ],
   "source": [
    "def rotate_word(word,x):\n",
    "    newst = \"\"\n",
    "    for letter in word:\n",
    "        newst += rotate_letter(letter,x)\n",
    "    return newst\n",
    "print(rotate_word(\"cat\", 5))"
   ]
  },
  {
   "cell_type": "code",
   "execution_count": null,
   "metadata": {},
   "outputs": [],
   "source": []
  }
 ],
 "metadata": {
  "kernelspec": {
   "display_name": "Python 3",
   "language": "python",
   "name": "python3"
  },
  "language_info": {
   "codemirror_mode": {
    "name": "ipython",
    "version": 3
   },
   "file_extension": ".py",
   "mimetype": "text/x-python",
   "name": "python",
   "nbconvert_exporter": "python",
   "pygments_lexer": "ipython3",
   "version": "3.8.5"
  }
 },
 "nbformat": 4,
 "nbformat_minor": 4
}
